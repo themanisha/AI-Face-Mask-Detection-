{
 "cells": [
  {
   "cell_type": "code",
   "execution_count": 2,
   "id": "76156979",
   "metadata": {},
   "outputs": [
    {
     "name": "stdout",
     "output_type": "stream",
     "text": [
      "{'without_mask': 0, 'with_mask': 1}\n",
      "['without_mask', 'with_mask']\n",
      "[0, 1]\n"
     ]
    }
   ],
   "source": [
    "import cv2,os\n",
    "data_path=(r'E:\\data\\dataset')\n",
    "categories=os.listdir(data_path)\n",
    "labels=[i for i in range(len(categories))]\n",
    "\n",
    "label_dict=dict(zip(categories,labels))\n",
    "\n",
    "print(label_dict)\n",
    "print(categories)\n",
    "print(labels)\n"
   ]
  },
  {
   "cell_type": "code",
   "execution_count": 3,
   "id": "8649b0c4",
   "metadata": {
    "scrolled": false
   },
   "outputs": [],
   "source": [
    "img_size=100\n",
    "data=[]\n",
    "target=[]\n",
    "\n",
    "\n",
    "for category in categories:\n",
    "    folder_path=os.path.join(data_path,category)\n",
    "    img_names=os.listdir(folder_path)\n",
    "        \n",
    "    for img_name in img_names:\n",
    "        img_path=os.path.join(folder_path,img_name)\n",
    "        img=cv2.imread(img_path)\n",
    "\n",
    "        try:\n",
    "            gray=cv2.cvtColor(img,cv2.COLOR_BGR2GRAY)           \n",
    "            #Coverting the image into gray scale\n",
    "            resized=cv2.resize(gray,(img_size,img_size))\n",
    "            #resizing the gray scale into 100x100, since we need a fixed common size for all the images in the dataset\n",
    "            data.append(resized)\n",
    "            target.append(label_dict[category])\n",
    "            #appending the image and the label(categorized) into the list (dataset)\n",
    "\n",
    "        except Exception as e:\n",
    "            print('Exception:',e)\n",
    "            #if any exception rasied, the exception will be printed here. And pass to the next image"
   ]
  },
  {
   "cell_type": "code",
   "execution_count": 4,
   "id": "4815d775",
   "metadata": {
    "scrolled": false
   },
   "outputs": [],
   "source": [
    "import numpy as np\n",
    "\n",
    "data=np.array(data)/255.0\n",
    "data=np.reshape(data,(data.shape[0],img_size,img_size,1))\n",
    "\n",
    "target=np.array(target)\n",
    "\n",
    "from keras.utils import np_utils\n",
    "\n",
    "new_target=np_utils.to_categorical(target)"
   ]
  },
  {
   "cell_type": "code",
   "execution_count": 5,
   "id": "c6b2735c",
   "metadata": {
    "scrolled": true
   },
   "outputs": [],
   "source": [
    "np.save(r'E:\\data\\dataset',data)\n",
    "np.save('target', new_target)"
   ]
  },
  {
   "cell_type": "code",
   "execution_count": 6,
   "id": "5d38757b",
   "metadata": {
    "scrolled": false
   },
   "outputs": [],
   "source": [
    "import numpy as np\n",
    "\n",
    "data=np.load(r'E:\\data\\dataset.npy')\n",
    "target=np.load('target.npy')\n",
    "\n",
    "#loading the save numpy arrays in the previous code"
   ]
  },
  {
   "cell_type": "code",
   "execution_count": 7,
   "id": "c9c10c22",
   "metadata": {
    "scrolled": false
   },
   "outputs": [],
   "source": [
    "from keras.models import Sequential\n",
    "from keras.layers import Dense,Activation,Flatten,Dropout\n",
    "from keras.layers import Conv2D,MaxPooling2D\n",
    "from keras.callbacks import ModelCheckpoint\n",
    "\n",
    "model=Sequential()\n",
    "\n",
    "model.add(Conv2D(200,(3,3),input_shape=data.shape[1:]))\n",
    "model.add(Activation('relu'))\n",
    "model.add(MaxPooling2D(pool_size=(2,2)))\n",
    "#The first CNN layer followed by Relu and MaxPooling layers\n",
    "\n",
    "model.add(Conv2D(100,(3,3)))\n",
    "model.add(Activation('relu'))\n",
    "model.add(MaxPooling2D(pool_size=(2,2)))\n",
    "#The second convolution layer followed by Relu and MaxPooling layers\n",
    "\n",
    "model.add(Flatten())\n",
    "model.add(Dropout(0.5))\n",
    "#Flatten layer to stack the output convolutions from second convolution layer\n",
    "model.add(Dense(50,activation='relu'))\n",
    "#Dense layer of 64 neurons\n",
    "model.add(Dense(2,activation='softmax'))\n",
    "#The Final layer with two outputs for two categories\n",
    "\n",
    "model.compile(loss='categorical_crossentropy',optimizer='adam',metrics=['accuracy'])"
   ]
  },
  {
   "cell_type": "code",
   "execution_count": 8,
   "id": "6e2ae30e",
   "metadata": {
    "scrolled": false
   },
   "outputs": [],
   "source": [
    "from sklearn.model_selection import train_test_split\n",
    "\n",
    "train_data,test_data,train_target,test_target=train_test_split(data,target,test_size=0.1)"
   ]
  },
  {
   "cell_type": "code",
   "execution_count": 9,
   "id": "6f4cc3f4",
   "metadata": {
    "scrolled": false
   },
   "outputs": [
    {
     "name": "stdout",
     "output_type": "stream",
     "text": [
      "Epoch 1/20\n",
      "170/170 [==============================] - 264s 2s/step - loss: 0.6206 - accuracy: 0.6527 - val_loss: 0.6028 - val_accuracy: 0.6522\n",
      "INFO:tensorflow:Assets written to: model-001.model\\assets\n",
      "Epoch 2/20\n",
      "170/170 [==============================] - 262s 2s/step - loss: 0.4994 - accuracy: 0.7550 - val_loss: 0.3882 - val_accuracy: 0.8132\n",
      "INFO:tensorflow:Assets written to: model-002.model\\assets\n",
      "Epoch 3/20\n",
      "170/170 [==============================] - 268s 2s/step - loss: 0.3886 - accuracy: 0.8244 - val_loss: 0.3424 - val_accuracy: 0.8449\n",
      "INFO:tensorflow:Assets written to: model-003.model\\assets\n",
      "Epoch 4/20\n",
      "170/170 [==============================] - 261s 2s/step - loss: 0.2969 - accuracy: 0.8700 - val_loss: 0.2650 - val_accuracy: 0.8912\n",
      "INFO:tensorflow:Assets written to: model-004.model\\assets\n",
      "Epoch 5/20\n",
      "170/170 [==============================] - 270s 2s/step - loss: 0.2442 - accuracy: 0.8965 - val_loss: 0.2432 - val_accuracy: 0.9015\n",
      "INFO:tensorflow:Assets written to: model-005.model\\assets\n",
      "Epoch 6/20\n",
      "170/170 [==============================] - 281s 2s/step - loss: 0.1940 - accuracy: 0.9226 - val_loss: 0.2492 - val_accuracy: 0.9015\n",
      "Epoch 7/20\n",
      "170/170 [==============================] - 271s 2s/step - loss: 0.1603 - accuracy: 0.9376 - val_loss: 0.2404 - val_accuracy: 0.8971\n",
      "INFO:tensorflow:Assets written to: model-007.model\\assets\n",
      "Epoch 8/20\n",
      "170/170 [==============================] - 268s 2s/step - loss: 0.1371 - accuracy: 0.9468 - val_loss: 0.3265 - val_accuracy: 0.8721\n",
      "Epoch 9/20\n",
      "170/170 [==============================] - 264s 2s/step - loss: 0.1048 - accuracy: 0.9608 - val_loss: 0.2512 - val_accuracy: 0.8978\n",
      "Epoch 10/20\n",
      "170/170 [==============================] - 263s 2s/step - loss: 0.0835 - accuracy: 0.9680 - val_loss: 0.2324 - val_accuracy: 0.9147\n",
      "INFO:tensorflow:Assets written to: model-010.model\\assets\n",
      "Epoch 11/20\n",
      "170/170 [==============================] - 330s 2s/step - loss: 0.0726 - accuracy: 0.9733 - val_loss: 0.2766 - val_accuracy: 0.9162\n",
      "Epoch 12/20\n",
      "170/170 [==============================] - 381s 2s/step - loss: 0.0576 - accuracy: 0.9801 - val_loss: 0.3104 - val_accuracy: 0.9015\n",
      "Epoch 13/20\n",
      "170/170 [==============================] - 357s 2s/step - loss: 0.0600 - accuracy: 0.9781 - val_loss: 0.3179 - val_accuracy: 0.9015\n",
      "Epoch 14/20\n",
      "170/170 [==============================] - 350s 2s/step - loss: 0.0377 - accuracy: 0.9873 - val_loss: 0.2889 - val_accuracy: 0.9074\n",
      "Epoch 15/20\n",
      "170/170 [==============================] - 398s 2s/step - loss: 0.0477 - accuracy: 0.9831 - val_loss: 0.2722 - val_accuracy: 0.9044\n",
      "Epoch 16/20\n",
      "170/170 [==============================] - 390s 2s/step - loss: 0.0338 - accuracy: 0.9877 - val_loss: 0.3114 - val_accuracy: 0.9096\n",
      "Epoch 17/20\n",
      "170/170 [==============================] - 520s 3s/step - loss: 0.0348 - accuracy: 0.9880 - val_loss: 0.3908 - val_accuracy: 0.8978\n",
      "Epoch 18/20\n",
      "170/170 [==============================] - 401s 2s/step - loss: 0.0328 - accuracy: 0.9895 - val_loss: 0.3208 - val_accuracy: 0.9051\n",
      "Epoch 19/20\n",
      "170/170 [==============================] - 313s 2s/step - loss: 0.0306 - accuracy: 0.9899 - val_loss: 0.3597 - val_accuracy: 0.8993\n",
      "Epoch 20/20\n",
      "170/170 [==============================] - 337s 2s/step - loss: 0.0289 - accuracy: 0.9923 - val_loss: 0.3273 - val_accuracy: 0.9125\n"
     ]
    }
   ],
   "source": [
    "checkpoint = ModelCheckpoint('model-{epoch:03d}.model',monitor='val_loss',verbose=0,save_best_only=True,mode='auto')\n",
    "history=model.fit(train_data,train_target,epochs=20,callbacks=[checkpoint],validation_split=0.2)"
   ]
  },
  {
   "cell_type": "code",
   "execution_count": 10,
   "id": "37f02e39",
   "metadata": {
    "scrolled": false
   },
   "outputs": [
    {
     "data": {
      "image/png": "[encoded data removed]",
      "text/plain": [
       "<Figure size 432x288 with 1 Axes>"
      ]
     },
     "metadata": {
      "needs_background": "light"
     },
     "output_type": "display_data"
    }
   ],
   "source": [
    "from matplotlib import pyplot as plt\n",
    "\n",
    "plt.plot(history.history['loss'],'r',label='training loss')\n",
    "plt.plot(history.history['val_loss'],label='validation loss')\n",
    "plt.xlabel('# epochs')\n",
    "plt.ylabel('loss')\n",
    "plt.legend()\n",
    "plt.show()"
   ]
  },
  {
   "cell_type": "code",
   "execution_count": 11,
   "id": "de14bec9",
   "metadata": {
    "scrolled": false
   },
   "outputs": [
    {
     "data": {
      "image/png": "[encoded data removed]",
      "text/plain": [
       "<Figure size 432x288 with 1 Axes>"
      ]
     },
     "metadata": {
      "needs_background": "light"
     },
     "output_type": "display_data"
    }
   ],
   "source": [
    "plt.plot(history.history['accuracy'],'r',label='training accuracy')\n",
    "plt.plot(history.history['val_accuracy'],label='validation accuracy')\n",
    "plt.xlabel('# epochs')\n",
    "plt.ylabel('loss')\n",
    "plt.legend()\n",
    "plt.show()"
   ]
  },
  {
   "cell_type": "code",
   "execution_count": 12,
   "id": "2cf64ed3",
   "metadata": {
    "scrolled": false
   },
   "outputs": [
    {
     "name": "stdout",
     "output_type": "stream",
     "text": [
      "24/24 [==============================] - 11s 449ms/step - loss: 0.4645 - accuracy: 0.8942\n",
      "[0.46449682116508484, 0.8941798806190491]\n"
     ]
    }
   ],
   "source": [
    "print(model.evaluate(test_data,test_target))"
   ]
  },
  {
   "cell_type": "code",
   "execution_count": 13,
   "id": "7df6e26c",
   "metadata": {
    "scrolled": false
   },
   "outputs": [],
   "source": [
    "from keras.models import load_model\n",
    "import cv2\n",
    "import numpy as np"
   ]
  },
  {
   "cell_type": "code",
   "execution_count": 14,
   "id": "fa85ed64",
   "metadata": {
    "scrolled": false
   },
   "outputs": [],
   "source": [
    "model = load_model(r'E:\\data\\model-017.model')\n",
    "\n",
    "face_clsfr=cv2.CascadeClassifier(r'E:\\data\\haarcascade_frontalface_default.xml')\n",
    "\n",
    "source=cv2.VideoCapture(0)\n",
    "\n",
    "labels_dict={0:'MASK',1:'NO MASK'}\n",
    "color_dict={0:(0,255,0),1:(0,0,255)}"
   ]
  },
  {
   "cell_type": "code",
   "execution_count": null,
   "id": "b3710b3f",
   "metadata": {
    "scrolled": true
   },
   "outputs": [],
   "source": [
    "while(True):\n",
    "\n",
    "    ret,img=source.read()\n",
    "    gray=cv2.cvtColor(img,cv2.COLOR_BGR2GRAY)\n",
    "    faces=face_clsfr.detectMultiScale(gray,1.3,5)  \n",
    "\n",
    "    for x,y,w,h in faces:\n",
    "    \n",
    "        face_img=gray[y:y+w,x:x+w]\n",
    "        resized=cv2.resize(face_img,(100,100))\n",
    "        normalized=resized/255.0\n",
    "        reshaped=np.reshape(normalized,(1,100,100,1))\n",
    "        result=model.predict(reshaped)\n",
    "\n",
    "        label=np.argmax(result,axis=1)[0]\n",
    "      \n",
    "        cv2.rectangle(img,(x,y),(x+w,y+h),color_dict[label],2)\n",
    "        cv2.rectangle(img,(x,y-40),(x+w,y),color_dict[label],-1)\n",
    "        cv2.putText(img, labels_dict[label], (x, y-10),cv2.FONT_HERSHEY_SIMPLEX,0.8,(255,255,255),2)\n",
    "        \n",
    "        \n",
    "    cv2.imshow(\"LIVE\",img)\n",
    "    key=cv2.waitKey(1)\n",
    "    \n",
    "    if(key==27):\n",
    "        break\n",
    "        \n",
    "cv2.destroyAllWindows()\n",
    "source.release()"
   ]
  }
 ],
 "metadata": {
  "kernelspec": {
   "display_name": "Python 3",
   "language": "python",
   "name": "python3"
  },
  "language_info": {
   "codemirror_mode": {
    "name": "ipython",
    "version": 3
   },
   "file_extension": ".py",
   "mimetype": "text/x-python",
   "name": "python",
   "nbconvert_exporter": "python",
   "pygments_lexer": "ipython3",
   "version": "3.8.8"
  }
 },
 "nbformat": 4,
 "nbformat_minor": 5
}
